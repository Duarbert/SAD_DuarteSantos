{
  "nbformat": 4,
  "nbformat_minor": 0,
  "metadata": {
    "colab": {
      "name": "Tr3_20160234.ipynb",
      "version": "0.3.2",
      "provenance": [],
      "include_colab_link": true
    },
    "kernelspec": {
      "name": "python3",
      "display_name": "Python 3"
    }
  },
  "cells": [
    {
      "cell_type": "markdown",
      "metadata": {
        "id": "view-in-github",
        "colab_type": "text"
      },
      "source": [
        "<a href=\"https://colab.research.google.com/github/Duarbert/SAD_DuarteSantos/blob/master/Tr3_20160234.ipynb\" target=\"_parent\"><img src=\"https://colab.research.google.com/assets/colab-badge.svg\" alt=\"Open In Colab\"/></a>"
      ]
    },
    {
      "metadata": {
        "id": "Pkf6a0G3vxGU",
        "colab_type": "code",
        "colab": {}
      },
      "cell_type": "code",
      "source": [
        "# Carregar o dataset\n",
        "\n",
        "import sklearn.datasets as datasets\n",
        "import pandas as pd\n",
        "import numpy as np"
      ],
      "execution_count": 0,
      "outputs": []
    },
    {
      "metadata": {
        "id": "6GeJEUdHw8sI",
        "colab_type": "code",
        "colab": {
          "base_uri": "https://localhost:8080/",
          "height": 357
        },
        "outputId": "4b6c1c78-b96e-4475-99c8-cc4325824bb2"
      },
      "cell_type": "code",
      "source": [
        "# Associar variável ao dataser\n",
        "\n",
        "dataHousing = datasets.california_housing.fetch_california_housing()\n",
        "\n",
        "print(dataHousing.DESCR)\n"
      ],
      "execution_count": 112,
      "outputs": [
        {
          "output_type": "stream",
          "text": [
            "California housing dataset.\n",
            "\n",
            "The original database is available from StatLib\n",
            "\n",
            "    http://lib.stat.cmu.edu/datasets/\n",
            "\n",
            "The data contains 20,640 observations on 9 variables.\n",
            "\n",
            "This dataset contains the average house value as target variable\n",
            "and the following input variables (features): average income,\n",
            "housing average age, average rooms, average bedrooms, population,\n",
            "average occupation, latitude, and longitude in that order.\n",
            "\n",
            "References\n",
            "----------\n",
            "\n",
            "Pace, R. Kelley and Ronald Barry, Sparse Spatial Autoregressions,\n",
            "Statistics and Probability Letters, 33 (1997) 291-297.\n",
            "\n",
            "\n"
          ],
          "name": "stdout"
        }
      ]
    },
    {
      "metadata": {
        "id": "TRxEYiUDxWSJ",
        "colab_type": "code",
        "colab": {}
      },
      "cell_type": "code",
      "source": [
        "dfHousing = pd.DataFrame(data=dataHousing.data, columns=dataHousing.feature_names)\n",
        "dfHousing.head(10)"
      ],
      "execution_count": 0,
      "outputs": []
    },
    {
      "metadata": {
        "id": "BZWO_YY7zxBo",
        "colab_type": "code",
        "colab": {}
      },
      "cell_type": "code",
      "source": [
        "# 1) Aggregation para o número de quartos para dormir\n",
        "\n",
        "AvgRoomDF = pd.DataFrame(dfHousing['AveBedrms'].aggregate(['sum','min','max','mean','var']).astype(int))\n",
        "\n",
        "print(AvgRoomDF)\n",
        "\n",
        "print('\\n')\n",
        "\n",
        "# Ou mais fácil\n",
        "\n",
        "print (dfHousing.agg({'AveBedrms' : ['sum','min','max','mean','var']}).astype(int))"
      ],
      "execution_count": 0,
      "outputs": []
    },
    {
      "metadata": {
        "id": "4qQ-AtJn9IPI",
        "colab_type": "code",
        "colab": {}
      },
      "cell_type": "code",
      "source": [
        "# 2) Média de ocupação de uma amostra aleatória de 25% do dataset\n",
        "\n",
        "Amostra1000 = dfHousing.sample(frac=0.25)\n",
        "\n",
        "Amostra1000.agg({'AveOccup' : ['mean']}).astype(float)"
      ],
      "execution_count": 0,
      "outputs": []
    },
    {
      "metadata": {
        "id": "5EqXFqrODIy8",
        "colab_type": "code",
        "colab": {}
      },
      "cell_type": "code",
      "source": [
        "3) Dimensionality Reduction"
      ],
      "execution_count": 0,
      "outputs": []
    },
    {
      "metadata": {
        "id": "ULRwQt4PApI6",
        "colab_type": "code",
        "colab": {}
      },
      "cell_type": "code",
      "source": [
        "# 3) Dimensionality Reduction \n",
        "\n",
        "# Não parece haver valores nulos para retirar\n",
        "dfHousing.isnull().sum()/len(dfHousing)*100\n",
        "\n",
        "# Vamos então retirar a longitude e latitude\n",
        "\n",
        "shortDfHousing = dfHousing.drop(['Latitude','Longitude'], axis = 1)\n",
        "shortDfHousing.head(10)"
      ],
      "execution_count": 0,
      "outputs": []
    },
    {
      "metadata": {
        "id": "xbM9gw_BHstj",
        "colab_type": "code",
        "colab": {
          "base_uri": "https://localhost:8080/",
          "height": 359
        },
        "outputId": "9e482138-bb7b-49f1-c904-1fcdfe6e2a90"
      },
      "cell_type": "code",
      "source": [
        "# 4) Feature Subset Selection\n",
        "\n",
        "# Escolher só as features dos quartos\n",
        "\n",
        "dfHousing[['AveBedrms', 'AveRooms']].head(10)"
      ],
      "execution_count": 154,
      "outputs": [
        {
          "output_type": "execute_result",
          "data": {
            "text/html": [
              "<div>\n",
              "<style scoped>\n",
              "    .dataframe tbody tr th:only-of-type {\n",
              "        vertical-align: middle;\n",
              "    }\n",
              "\n",
              "    .dataframe tbody tr th {\n",
              "        vertical-align: top;\n",
              "    }\n",
              "\n",
              "    .dataframe thead th {\n",
              "        text-align: right;\n",
              "    }\n",
              "</style>\n",
              "<table border=\"1\" class=\"dataframe\">\n",
              "  <thead>\n",
              "    <tr style=\"text-align: right;\">\n",
              "      <th></th>\n",
              "      <th>AveBedrms</th>\n",
              "      <th>AveRooms</th>\n",
              "    </tr>\n",
              "  </thead>\n",
              "  <tbody>\n",
              "    <tr>\n",
              "      <th>0</th>\n",
              "      <td>1.023810</td>\n",
              "      <td>6.984127</td>\n",
              "    </tr>\n",
              "    <tr>\n",
              "      <th>1</th>\n",
              "      <td>0.971880</td>\n",
              "      <td>6.238137</td>\n",
              "    </tr>\n",
              "    <tr>\n",
              "      <th>2</th>\n",
              "      <td>1.073446</td>\n",
              "      <td>8.288136</td>\n",
              "    </tr>\n",
              "    <tr>\n",
              "      <th>3</th>\n",
              "      <td>1.073059</td>\n",
              "      <td>5.817352</td>\n",
              "    </tr>\n",
              "    <tr>\n",
              "      <th>4</th>\n",
              "      <td>1.081081</td>\n",
              "      <td>6.281853</td>\n",
              "    </tr>\n",
              "    <tr>\n",
              "      <th>5</th>\n",
              "      <td>1.103627</td>\n",
              "      <td>4.761658</td>\n",
              "    </tr>\n",
              "    <tr>\n",
              "      <th>6</th>\n",
              "      <td>0.951362</td>\n",
              "      <td>4.931907</td>\n",
              "    </tr>\n",
              "    <tr>\n",
              "      <th>7</th>\n",
              "      <td>1.061824</td>\n",
              "      <td>4.797527</td>\n",
              "    </tr>\n",
              "    <tr>\n",
              "      <th>8</th>\n",
              "      <td>1.117647</td>\n",
              "      <td>4.294118</td>\n",
              "    </tr>\n",
              "    <tr>\n",
              "      <th>9</th>\n",
              "      <td>0.990196</td>\n",
              "      <td>4.970588</td>\n",
              "    </tr>\n",
              "  </tbody>\n",
              "</table>\n",
              "</div>"
            ],
            "text/plain": [
              "   AveBedrms  AveRooms\n",
              "0   1.023810  6.984127\n",
              "1   0.971880  6.238137\n",
              "2   1.073446  8.288136\n",
              "3   1.073059  5.817352\n",
              "4   1.081081  6.281853\n",
              "5   1.103627  4.761658\n",
              "6   0.951362  4.931907\n",
              "7   1.061824  4.797527\n",
              "8   1.117647  4.294118\n",
              "9   0.990196  4.970588"
            ]
          },
          "metadata": {
            "tags": []
          },
          "execution_count": 154
        }
      ]
    },
    {
      "metadata": {
        "id": "1ev4sL8rH85E",
        "colab_type": "code",
        "colab": {
          "base_uri": "https://localhost:8080/",
          "height": 265
        },
        "outputId": "f2d1372a-45db-4c1b-c6ac-0f17bc9de397"
      },
      "cell_type": "code",
      "source": [
        "# 5) Feature Creation\n",
        "print(dataHousing.data.shape)\n",
        "print(dataHousing.target.shape)\n",
        "\n",
        "print(dataHousing.target.reshape(-1,1).shape)\n",
        "\n",
        "dfHousing2 = np.concatenate((dataHousing, dataHousing.target.reshape(-1,1)), axis=1)\n",
        "\n"
      ],
      "execution_count": 184,
      "outputs": [
        {
          "output_type": "stream",
          "text": [
            "(20640, 8)\n",
            "(20640,)\n",
            "(20640, 1)\n"
          ],
          "name": "stdout"
        },
        {
          "output_type": "error",
          "ename": "ValueError",
          "evalue": "ignored",
          "traceback": [
            "\u001b[0;31m---------------------------------------------------------------------------\u001b[0m",
            "\u001b[0;31mValueError\u001b[0m                                Traceback (most recent call last)",
            "\u001b[0;32m<ipython-input-184-00cc7c14607f>\u001b[0m in \u001b[0;36m<module>\u001b[0;34m()\u001b[0m\n\u001b[1;32m      4\u001b[0m \u001b[0mprint\u001b[0m\u001b[0;34m(\u001b[0m\u001b[0mdataHousing\u001b[0m\u001b[0;34m.\u001b[0m\u001b[0mtarget\u001b[0m\u001b[0;34m.\u001b[0m\u001b[0mreshape\u001b[0m\u001b[0;34m(\u001b[0m\u001b[0;34m-\u001b[0m\u001b[0;36m1\u001b[0m\u001b[0;34m,\u001b[0m\u001b[0;36m1\u001b[0m\u001b[0;34m)\u001b[0m\u001b[0;34m.\u001b[0m\u001b[0mshape\u001b[0m\u001b[0;34m)\u001b[0m\u001b[0;34m\u001b[0m\u001b[0m\n\u001b[1;32m      5\u001b[0m \u001b[0;34m\u001b[0m\u001b[0m\n\u001b[0;32m----> 6\u001b[0;31m \u001b[0mdfHousing2\u001b[0m \u001b[0;34m=\u001b[0m \u001b[0mnp\u001b[0m\u001b[0;34m.\u001b[0m\u001b[0mconcatenate\u001b[0m\u001b[0;34m(\u001b[0m\u001b[0;34m(\u001b[0m\u001b[0mdataHousing\u001b[0m\u001b[0;34m,\u001b[0m \u001b[0mdataHousing\u001b[0m\u001b[0;34m.\u001b[0m\u001b[0mtarget\u001b[0m\u001b[0;34m.\u001b[0m\u001b[0mreshape\u001b[0m\u001b[0;34m(\u001b[0m\u001b[0;34m-\u001b[0m\u001b[0;36m1\u001b[0m\u001b[0;34m,\u001b[0m\u001b[0;36m1\u001b[0m\u001b[0;34m)\u001b[0m\u001b[0;34m)\u001b[0m\u001b[0;34m,\u001b[0m \u001b[0maxis\u001b[0m\u001b[0;34m=\u001b[0m\u001b[0;36m1\u001b[0m\u001b[0;34m)\u001b[0m\u001b[0;34m\u001b[0m\u001b[0m\n\u001b[0m\u001b[1;32m      7\u001b[0m \u001b[0;34m\u001b[0m\u001b[0m\n",
            "\u001b[0;31mValueError\u001b[0m: zero-dimensional arrays cannot be concatenated"
          ]
        }
      ]
    },
    {
      "metadata": {
        "id": "TRufuM8-IAsZ",
        "colab_type": "code",
        "colab": {
          "base_uri": "https://localhost:8080/",
          "height": 197
        },
        "outputId": "5480800c-a615-49ef-fe08-5b95acd6b8b3"
      },
      "cell_type": "code",
      "source": [
        "# 6) Discretization and Binarization\n",
        "\n",
        "# Se tiverem quartos para dormir, a classificação fica binária.\n",
        "\n",
        "dfHousing[['AveBedrms', 'AveRooms']].head(10)\n",
        "\n",
        "dfHousing[('AveBedrms') < 1, 'AveRooms']]"
      ],
      "execution_count": 168,
      "outputs": [
        {
          "output_type": "error",
          "ename": "ValueError",
          "evalue": "ignored",
          "traceback": [
            "\u001b[0;31m---------------------------------------------------------------------------\u001b[0m",
            "\u001b[0;31mValueError\u001b[0m                                Traceback (most recent call last)",
            "\u001b[0;32m<ipython-input-168-17ddbaffb223>\u001b[0m in \u001b[0;36m<module>\u001b[0;34m()\u001b[0m\n\u001b[1;32m      2\u001b[0m \u001b[0mdfHousing\u001b[0m\u001b[0;34m[\u001b[0m\u001b[0;34m[\u001b[0m\u001b[0;34m'AveBedrms'\u001b[0m\u001b[0;34m,\u001b[0m \u001b[0;34m'AveRooms'\u001b[0m\u001b[0;34m]\u001b[0m\u001b[0;34m]\u001b[0m\u001b[0;34m.\u001b[0m\u001b[0mhead\u001b[0m\u001b[0;34m(\u001b[0m\u001b[0;36m10\u001b[0m\u001b[0;34m)\u001b[0m\u001b[0;34m\u001b[0m\u001b[0m\n\u001b[1;32m      3\u001b[0m \u001b[0;34m\u001b[0m\u001b[0m\n\u001b[0;32m----> 4\u001b[0;31m \u001b[0mdfHousing\u001b[0m\u001b[0;34m[\u001b[0m\u001b[0;34m[\u001b[0m\u001b[0mint\u001b[0m\u001b[0;34m(\u001b[0m\u001b[0;34m'AveBedrms'\u001b[0m\u001b[0;34m)\u001b[0m \u001b[0;34m<\u001b[0m \u001b[0;36m1\u001b[0m\u001b[0;34m,\u001b[0m \u001b[0;34m'AveRooms'\u001b[0m\u001b[0;34m]\u001b[0m\u001b[0;34m]\u001b[0m\u001b[0;34m\u001b[0m\u001b[0m\n\u001b[0m",
            "\u001b[0;31mValueError\u001b[0m: invalid literal for int() with base 10: 'AveBedrms'"
          ]
        }
      ]
    },
    {
      "metadata": {
        "id": "gWIV8X_bIEyW",
        "colab_type": "code",
        "colab": {}
      },
      "cell_type": "code",
      "source": [
        "# 7) Attribute Transformation"
      ],
      "execution_count": 0,
      "outputs": []
    }
  ]
}