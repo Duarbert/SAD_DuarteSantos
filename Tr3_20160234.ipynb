{
  "nbformat": 4,
  "nbformat_minor": 0,
  "metadata": {
    "colab": {
      "name": "Tr3_20160234.ipynb",
      "version": "0.3.2",
      "provenance": [],
      "include_colab_link": true
    },
    "kernelspec": {
      "name": "python3",
      "display_name": "Python 3"
    }
  },
  "cells": [
    {
      "cell_type": "markdown",
      "metadata": {
        "id": "view-in-github",
        "colab_type": "text"
      },
      "source": [
        "<a href=\"https://colab.research.google.com/github/Duarbert/SAD_DuarteSantos/blob/master/Tr3_20160234.ipynb\" target=\"_parent\"><img src=\"https://colab.research.google.com/assets/colab-badge.svg\" alt=\"Open In Colab\"/></a>"
      ]
    },
    {
      "metadata": {
        "id": "Pkf6a0G3vxGU",
        "colab_type": "code",
        "colab": {}
      },
      "cell_type": "code",
      "source": [
        "# Carregar o dataset\n",
        "\n",
        "import sklearn.datasets as datasets\n",
        "import pandas as pd\n",
        "import numpy as np"
      ],
      "execution_count": 0,
      "outputs": []
    },
    {
      "metadata": {
        "id": "6GeJEUdHw8sI",
        "colab_type": "code",
        "colab": {}
      },
      "cell_type": "code",
      "source": [
        "# Associar variável ao dataset\n",
        "\n",
        "dataHousing = datasets.california_housing.fetch_california_housing()"
      ],
      "execution_count": 0,
      "outputs": []
    },
    {
      "metadata": {
        "id": "TRxEYiUDxWSJ",
        "colab_type": "code",
        "colab": {}
      },
      "cell_type": "code",
      "source": [
        "dfHousing = pd.DataFrame(data=dataHousing.data, columns=dataHousing.feature_names)\n",
        "dfHousing.head(10)"
      ],
      "execution_count": 0,
      "outputs": []
    },
    {
      "metadata": {
        "id": "BZWO_YY7zxBo",
        "colab_type": "code",
        "colab": {}
      },
      "cell_type": "code",
      "source": [
        "# 1) Aggregation para o número de quartos para dormir\n",
        "\n",
        "AvgRoomDF = pd.DataFrame(dfHousing['AveBedrms'].aggregate(['sum','min','max','mean','var']).astype(int))\n",
        "\n",
        "print(AvgRoomDF)\n",
        "\n",
        "print('\\n')\n",
        "\n",
        "# Ou mais fácil\n",
        "\n",
        "print (dfHousing.agg({'AveBedrms' : ['sum','min','max','mean','var']}).astype(int))\n",
        "\n",
        "# Ou ainda mais fácil\n",
        "\n",
        "dfHousing['AveBedrms'].describe()"
      ],
      "execution_count": 0,
      "outputs": []
    },
    {
      "metadata": {
        "id": "4qQ-AtJn9IPI",
        "colab_type": "code",
        "colab": {}
      },
      "cell_type": "code",
      "source": [
        "# 2) Sampling\n",
        "# Média de ocupação de uma amostra aleatória de 25% do dataset\n",
        "\n",
        "Amostra1000 = dfHousing.sample(frac=0.25)\n",
        "\n",
        "Amostra1000.agg({'AveOccup' : ['mean']}).astype(float)"
      ],
      "execution_count": 0,
      "outputs": []
    },
    {
      "metadata": {
        "id": "ULRwQt4PApI6",
        "colab_type": "code",
        "colab": {}
      },
      "cell_type": "code",
      "source": [
        "# 3) Dimensionality Reduction \n",
        "\n",
        "# Não parece haver valores nulos para retirar\n",
        "dfHousing.isnull().sum()/len(dfHousing)*100\n",
        "\n",
        "# Vamos então retirar a longitude e latitude\n",
        "shortDfHousing = dfHousing.drop(['Latitude','Longitude'], axis = 1)\n",
        "shortDfHousing.head(10)"
      ],
      "execution_count": 0,
      "outputs": []
    },
    {
      "metadata": {
        "id": "xbM9gw_BHstj",
        "colab_type": "code",
        "colab": {
          "base_uri": "https://localhost:8080/",
          "height": 359
        },
        "outputId": "e7f1d2c4-9481-496c-ec2f-4389628d4728"
      },
      "cell_type": "code",
      "source": [
        "# 4) Feature Subset Selection\n",
        "\n",
        "# Escolher só as features dos quartos\n",
        "\n",
        "dfHousing[['AveBedrms', 'AveRooms']].head(10)"
      ],
      "execution_count": 27,
      "outputs": [
        {
          "output_type": "execute_result",
          "data": {
            "text/html": [
              "<div>\n",
              "<style scoped>\n",
              "    .dataframe tbody tr th:only-of-type {\n",
              "        vertical-align: middle;\n",
              "    }\n",
              "\n",
              "    .dataframe tbody tr th {\n",
              "        vertical-align: top;\n",
              "    }\n",
              "\n",
              "    .dataframe thead th {\n",
              "        text-align: right;\n",
              "    }\n",
              "</style>\n",
              "<table border=\"1\" class=\"dataframe\">\n",
              "  <thead>\n",
              "    <tr style=\"text-align: right;\">\n",
              "      <th></th>\n",
              "      <th>AveBedrms</th>\n",
              "      <th>AveRooms</th>\n",
              "    </tr>\n",
              "  </thead>\n",
              "  <tbody>\n",
              "    <tr>\n",
              "      <th>0</th>\n",
              "      <td>1.023810</td>\n",
              "      <td>6.984127</td>\n",
              "    </tr>\n",
              "    <tr>\n",
              "      <th>1</th>\n",
              "      <td>0.971880</td>\n",
              "      <td>6.238137</td>\n",
              "    </tr>\n",
              "    <tr>\n",
              "      <th>2</th>\n",
              "      <td>1.073446</td>\n",
              "      <td>8.288136</td>\n",
              "    </tr>\n",
              "    <tr>\n",
              "      <th>3</th>\n",
              "      <td>1.073059</td>\n",
              "      <td>5.817352</td>\n",
              "    </tr>\n",
              "    <tr>\n",
              "      <th>4</th>\n",
              "      <td>1.081081</td>\n",
              "      <td>6.281853</td>\n",
              "    </tr>\n",
              "    <tr>\n",
              "      <th>5</th>\n",
              "      <td>1.103627</td>\n",
              "      <td>4.761658</td>\n",
              "    </tr>\n",
              "    <tr>\n",
              "      <th>6</th>\n",
              "      <td>0.951362</td>\n",
              "      <td>4.931907</td>\n",
              "    </tr>\n",
              "    <tr>\n",
              "      <th>7</th>\n",
              "      <td>1.061824</td>\n",
              "      <td>4.797527</td>\n",
              "    </tr>\n",
              "    <tr>\n",
              "      <th>8</th>\n",
              "      <td>1.117647</td>\n",
              "      <td>4.294118</td>\n",
              "    </tr>\n",
              "    <tr>\n",
              "      <th>9</th>\n",
              "      <td>0.990196</td>\n",
              "      <td>4.970588</td>\n",
              "    </tr>\n",
              "  </tbody>\n",
              "</table>\n",
              "</div>"
            ],
            "text/plain": [
              "   AveBedrms  AveRooms\n",
              "0   1.023810  6.984127\n",
              "1   0.971880  6.238137\n",
              "2   1.073446  8.288136\n",
              "3   1.073059  5.817352\n",
              "4   1.081081  6.281853\n",
              "5   1.103627  4.761658\n",
              "6   0.951362  4.931907\n",
              "7   1.061824  4.797527\n",
              "8   1.117647  4.294118\n",
              "9   0.990196  4.970588"
            ]
          },
          "metadata": {
            "tags": []
          },
          "execution_count": 27
        }
      ]
    },
    {
      "metadata": {
        "id": "1ev4sL8rH85E",
        "colab_type": "code",
        "colab": {}
      },
      "cell_type": "code",
      "source": [
        "# 5) Feature Creation está também no 6, ou eu não entendi... é capaz de ser mais provável."
      ],
      "execution_count": 0,
      "outputs": []
    },
    {
      "metadata": {
        "id": "TRufuM8-IAsZ",
        "colab_type": "code",
        "colab": {}
      },
      "cell_type": "code",
      "source": [
        "# 6) Discretization and Binarization\n",
        "\n",
        "# Se tiverem quartos para dormir, ou seja a média é superior a 1 , a classificação fica binária.\n",
        "\n",
        "dfHousing['HasOneBedroom'] = (dfHousing.AveBedrms >=1)\n",
        "dfHousing"
      ],
      "execution_count": 0,
      "outputs": []
    },
    {
      "metadata": {
        "id": "gWIV8X_bIEyW",
        "colab_type": "code",
        "colab": {}
      },
      "cell_type": "code",
      "source": [
        "# 7) Attribute Transformation"
      ],
      "execution_count": 0,
      "outputs": []
    }
  ]
}