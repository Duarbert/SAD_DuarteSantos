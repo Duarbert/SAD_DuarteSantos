{
  "nbformat": 4,
  "nbformat_minor": 0,
  "metadata": {
    "colab": {
      "name": "Tr2_20160234.ipynb",
      "version": "0.3.2",
      "provenance": [],
      "include_colab_link": true
    },
    "kernelspec": {
      "name": "python3",
      "display_name": "Python 3"
    }
  },
  "cells": [
    {
      "cell_type": "markdown",
      "metadata": {
        "id": "view-in-github",
        "colab_type": "text"
      },
      "source": [
        "<a href=\"https://colab.research.google.com/github/Duarbert/SAD_DuarteSantos/blob/master/Tr2_20160234.ipynb\" target=\"_parent\"><img src=\"https://colab.research.google.com/assets/colab-badge.svg\" alt=\"Open In Colab\"/></a>"
      ]
    },
    {
      "metadata": {
        "id": "AMwAqxYMKp0t",
        "colab_type": "code",
        "colab": {
          "base_uri": "https://localhost:8080/",
          "height": 34
        },
        "outputId": "314cef07-702c-445a-a677-ffc4734f228c"
      },
      "cell_type": "code",
      "source": [
        "# ISTO DEMOROU  7 HORAS....talvez mais....\n",
        "\n",
        "A = [\"1P\", \"1C\", \"1O\", \"2P\", \"2C\", \"2O\", \"2E\", \"3P\", \"3C\", \"3O\", \n",
        "     \"3E\", \"4P\", \"4C\", \"4O\", \"4E\", \"5P\", \"5C\", \"5O\", \"5E\", \"6P\", \"6C\", \"6O\", \n",
        "     \"6E\", \"7P\", \"7C\", \"7O\", \"7E\", \"8P\", \"8C\", \"8O\", \"8E\", \"9P\", \"9C\", \"9O\", \"9E\", \"DP\", \n",
        "     \"DC\", \"DO\", \"DE\", \"JP\", \"JC\", \"JO\", \"JE\", \"VP\", \"VC\", \"VO\", \"VE\", \"RP\", \"RC\", \"RO\", \"RE\", \n",
        "     \"1P\", \"1C\", \"1O\", \"1E\", \"2P\", \"2C\", \"2O\", \"2E\", \"3P\", \"3C\", \"3O\", \"3E\", \n",
        "     \"4P\", \"4C\", \"4O\", \"4E\", \"5P\", \"5C\", \"5O\", \"5E\", \"6P\", \"6C\", \"6O\", \"6E\", \"7P\", \"7C\", \n",
        "     \"7O\", \"7E\", \"8P\", \"8C\", \"8O\", \"8E\", \"9P\", \"9C\", \"9O\", \"9E\", \"DP\", \"DC\", \"DO\", \"DE\", \n",
        "     \"JP\", \"JC\", \"JO\", \"JE\", \"VP\", \"VC\", \"VO\", \"VE\", \"RP\", \"RC\", \"RO\", \"RE\", \"P1\", \"1C\", \n",
        "     \"1O\", \"1E\", \"2P\", \"2C\", \"2O\", \"2E\", \"3P\", \"3C\", \"3O\", \"3E\", \"4P\", \"4C\", \"4O\", \"4E\", \n",
        "     \"5P\", \"5C\", \"5O\", \"5E\", \"6P\", \"6C\", \"6O\", \"6E\", \"7P\", \"7C\", \"7O\", \"7E\", \"8P\", \"8C\", \n",
        "     \"8O\", \"8E\", \"9P\", \"9C\", \"9O\", \"9E\", \"DP\", \"DC\", \"DO\", \"DE\", \"JP\", \"JC\", \"JO\", \"JE\", \n",
        "     \"VP\", \"VC\", \"VO\", \"VE\", \"RP\", \"RC\", \"RO\", \"RE\",\"10P\",\"10C\",\"10E\",\"10O\",\"10P\",\"10C\",\"10E\",\"O10\",]\n",
        "\n",
        "CARTAS_NAIPE = 13\n",
        "NAIPES = {\"P\":[],\"C\":[],\"O\":[],\"E\":[]}\n",
        "DICT_SETS = {\"P\":0,\"C\":0,\"O\":0,\"E\":0}\n",
        "NUM_VALIDOS = (list(range(1,11)))\n",
        "CHAR_VALIDOS = [\"D\",\"V\",\"R\"]\n",
        "\n",
        "for i in NAIPES:\n",
        "    for z in A:\n",
        "      if z[0] == i:\n",
        "        z = (z[1:]+z[0]) # Normaliza os dados de por ex. O10 para 10O\n",
        "      if (i in z[-1] or z[-1] in str(CHAR_VALIDOS)) \\\n",
        "      and (z[0] in str(NUM_VALIDOS) or z[0] in CHAR_VALIDOS):\n",
        "        NAIPES[i].append(z) # Adiciona à lista do dicionário\n",
        "    #print (NAIPES.get(i))\n",
        "\n",
        "for i in NAIPES: \n",
        "  while True:\n",
        "    SN = (set(NAIPES.get(i))) # Retira um distict da lista de Naipes\n",
        "    if len(SN) == CARTAS_NAIPE: # Se esse distinct tiver 13 cartas\n",
        "      DICT_SETS[i] += 1 # Atualiza o dicionário de sets completos\n",
        "      for z in SN:\n",
        "        NAIPES[i].remove(z) # Remove as cartas do dicionario para obter nova lista distinct\n",
        "    else:\n",
        "      break\n",
        "\n",
        "print(\"A lista tem \" + str(min(DICT_SETS.values())) + \" baralho(s) completo(s).\")\n",
        "\n",
        "\n"
      ],
      "execution_count": 148,
      "outputs": [
        {
          "output_type": "stream",
          "text": [
            "A lista tem 2 baralho(s) completo(s).\n"
          ],
          "name": "stdout"
        }
      ]
    },
    {
      "metadata": {
        "id": "PJBFUu6Jagr7",
        "colab_type": "code",
        "colab": {}
      },
      "cell_type": "code",
      "source": [
        ""
      ],
      "execution_count": 0,
      "outputs": []
    },
    {
      "metadata": {
        "id": "4KWrtflvi9Ef",
        "colab_type": "code",
        "colab": {}
      },
      "cell_type": "code",
      "source": [
        "for i in NAIPES:\n",
        "    for z in A:\n",
        "      if i in (z[-1] or z[0]) \\\n",
        "      and ((z[0] or z[-1:] or z[0:2] or z[-2:]) in (str(NUM_VALIDOS)) \\\n",
        "      or (z[0] or z[-1]) in CHAR_VALIDOS):\n",
        "        NAIPES[i].append(z)\n",
        "        \n",
        "              if i in z[0] or i in z[-1]:\n",
        "        NAIPES[i].append(z)"
      ],
      "execution_count": 0,
      "outputs": []
    }
  ]
}