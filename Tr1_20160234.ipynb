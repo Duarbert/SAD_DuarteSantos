{
  "nbformat": 4,
  "nbformat_minor": 0,
  "metadata": {
    "colab": {
      "name": "Tr1_20160234.ipynb",
      "version": "0.3.2",
      "provenance": [],
      "include_colab_link": true
    },
    "kernelspec": {
      "name": "python3",
      "display_name": "Python 3"
    }
  },
  "cells": [
    {
      "cell_type": "markdown",
      "metadata": {
        "id": "view-in-github",
        "colab_type": "text"
      },
      "source": [
        "[View in Colaboratory](https://colab.research.google.com/github/Duarbert/SAD_DuarteSantos/blob/master/Tr1_20160234.ipynb)"
      ]
    },
    {
      "metadata": {
        "id": "jirGpvNV2lv5",
        "colab_type": "code",
        "colab": {
          "base_uri": "https://localhost:8080/",
          "height": 34
        },
        "outputId": "cb0dfee1-cf76-4d3e-b4d5-4f397b7886aa"
      },
      "cell_type": "code",
      "source": [
        "S =\"([{{{{{[[()]]}}}}}])\" # string the entrada\n",
        "ARR = [\"(\",\"{\",\"[\",\")\",\"}\",\"]\",\" \"] # array de apoio\n",
        "Stack = []\n",
        "\n",
        "def func(S):\n",
        "  Resultado = None\n",
        "  for i in S:\n",
        "    Stack.append(i) # Adiciona à pilha\n",
        "\n",
        "    if len(Stack) == 1 and i in ARR[3:] or len(S) == 1: # Se a pilha só tiver 1 e for encerramento é Falso\n",
        "      Resultado = False\n",
        "      break      \n",
        "\n",
        "    if i in ARR[3:]: # Se pertencer à lista de encerramento\n",
        "      if Stack[-2] == ARR[ARR.index(i) - 3]: # Se o anterior for o char de abertura\n",
        "        del Stack[-2] #A paga a de abertura\n",
        "        del Stack[-1] # Apaga a de fecho\n",
        "      else: # Se não pertence é Falso\n",
        "        Resultado = False\n",
        "        break\n",
        "    else:\n",
        "      Resultado = True\n",
        "  return Resultado \n",
        "\n",
        "\n",
        "func(S)"
      ],
      "execution_count": 1,
      "outputs": [
        {
          "output_type": "execute_result",
          "data": {
            "text/plain": [
              "True"
            ]
          },
          "metadata": {
            "tags": []
          },
          "execution_count": 1
        }
      ]
    }
  ]
}