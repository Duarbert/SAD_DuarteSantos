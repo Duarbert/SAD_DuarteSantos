{
  "nbformat": 4,
  "nbformat_minor": 0,
  "metadata": {
    "colab": {
      "name": "TPC5.ipynb",
      "version": "0.3.2",
      "provenance": [],
      "collapsed_sections": [],
      "include_colab_link": true
    },
    "kernelspec": {
      "name": "python3",
      "display_name": "Python 3"
    }
  },
  "cells": [
    {
      "cell_type": "markdown",
      "metadata": {
        "id": "view-in-github",
        "colab_type": "text"
      },
      "source": [
        "<a href=\"https://colab.research.google.com/github/Duarbert/SAD_DuarteSantos/blob/master/TPC5.ipynb\" target=\"_parent\"><img src=\"https://colab.research.google.com/assets/colab-badge.svg\" alt=\"Open In Colab\"/></a>"
      ]
    },
    {
      "metadata": {
        "id": "-VlgoT-337uB",
        "colab_type": "text"
      },
      "cell_type": "markdown",
      "source": [
        "\n",
        "\n",
        "</br></br>\n",
        "\n",
        "# Sistemas de Apoio à Decisão\n",
        "#### TPC 5 - PARTE 1 DO TRABALHO FINAL (15 dias)\n",
        "\n",
        "---------------\n",
        "\n",
        "\n",
        "##### Com base no seu dataset (Determinado para a sua resolução do Trabalho final)\n",
        "\n",
        "- Catalogar o dataset quanto a\n",
        "    - Dimensionalidade\n",
        "    - Esparsidade\n",
        "    - Resolução\n",
        "    - Tamanho\n",
        "\n",
        "\n",
        "- Catalogar todos as features (Máx 50), quanto a:\n",
        "    - valores de valores médios, variâncias,histogramas (crie um módulo que faça isto por si);\n",
        "    - Tipo (contínuo, discreto ou binário)   \n",
        "    - Analise NaN's (ou Nulls) e Outliers\n",
        "    - Analise os resultados\n",
        "    - Quais não fazem sentido em termos do problema que pretende resolver;\n",
        "    - Que outras features poderia utilizar para enriquecer a informação do seu problema;\n",
        "    - Perceba se deve ou não fazer encoding ou one hot encoding para cada feature discreta;\n",
        "    - Faça uma matriz de correlação entre as features usando ```dataframe.corr()```;\n",
        "\n",
        "\n",
        "\n",
        "- Analise em termos estatísticos a Label/target que tem para já como problema.\n",
        "\n",
        "---\n",
        "\n",
        "No final, faça um pequeno texto relatando o dataset que está a utilzar, recorrendo à informação que obteve nas perguntas anteriores;\n"
      ]
    },
    {
      "metadata": {
        "id": "ADh0AzTFurzo",
        "colab_type": "text"
      },
      "cell_type": "markdown",
      "source": [
        "#Definição\n",
        "\n",
        "Este dataset tem como objectivo classificar uma dada instância de um empregado de uma empresa como potêncial candidato a sair da empresa por variadíssimas razões.\n",
        "\n",
        "*Attrition, in Human Resource terminology, refers to the phenomenon of the employees leaving the company. Attrition in a company is usually measured with a metric called attrition rate, which simply measures the no of employees moving out of the company (voluntary resigning or laid off by the company). Attrition Rate is also referred as churn rate or turnover.*\n",
        "\n",
        "*High attrition is a cause of concern for a company as it presents a cost to the company. The company loses on the amount it spent to recruit and select these employees and to train them for their respective jobs. The company may also have to spend additional money to fill the vacancies left open by these employees. Hence it becomes critical for a company to keep a tab on the attrition rate which down-sizes the employee base.*\n",
        "\n",
        "**Attrition Rate Formula**\n",
        "\n",
        "Attrition Rate (%)= (Number of separations/ Number of employees) * 100\n",
        "\n",
        "*Attrition rate gives an idea as to how many employees are leaving the company at any given time period. It is an important factor as companies have to prepare to start recruiting for the positions which are critical and cannot be left vacant.*"
      ]
    },
    {
      "metadata": {
        "id": "_k9vueDq4wi0",
        "colab_type": "text"
      },
      "cell_type": "markdown",
      "source": [
        "#Dependências#"
      ]
    },
    {
      "metadata": {
        "id": "rAsMaxZU5YRd",
        "colab_type": "code",
        "outputId": "50a7b789-1e49-420d-99f5-c1d3f29a4e50",
        "colab": {
          "base_uri": "https://localhost:8080/",
          "height": 34
        }
      },
      "cell_type": "code",
      "source": [
        "from google.colab import drive\n",
        "drive.mount('/content/gdrive')"
      ],
      "execution_count": 2,
      "outputs": [
        {
          "output_type": "stream",
          "text": [
            "Drive already mounted at /content/gdrive; to attempt to forcibly remount, call drive.mount(\"/content/gdrive\", force_remount=True).\n"
          ],
          "name": "stdout"
        }
      ]
    },
    {
      "metadata": {
        "id": "1KA0L7shwW4W",
        "colab_type": "code",
        "colab": {}
      },
      "cell_type": "code",
      "source": [
        "import pandas as pd\n",
        "import numpy as np\n",
        "import io\n",
        "import matplotlib.pyplot as plt\n",
        "import seaborn\n",
        "\n",
        "from pandas.api.types import is_string_dtype\n",
        "from pandas.api.types import is_numeric_dtype\n",
        "\n",
        "# Importar os classificadores\n",
        "from sklearn.tree import DecisionTreeClassifier\n",
        "from sklearn.model_selection import train_test_split\n",
        "from sklearn.ensemble import RandomForestClassifier\n",
        "from sklearn.naive_bayes import GaussianNB\n",
        "from sklearn.naive_bayes import MultinomialNB\n",
        "from sklearn.naive_bayes import BernoulliNB\n",
        "from sklearn.metrics import accuracy_score\n",
        "from sklearn.model_selection import cross_val_score\n",
        "from sklearn.model_selection import GridSearchCV"
      ],
      "execution_count": 0,
      "outputs": []
    },
    {
      "metadata": {
        "id": "CZbb6gqN61IH",
        "colab_type": "text"
      },
      "cell_type": "markdown",
      "source": [
        "#Carregar os Dados#"
      ]
    },
    {
      "metadata": {
        "id": "6D3KEKMbwZj6",
        "colab_type": "code",
        "colab": {}
      },
      "cell_type": "code",
      "source": [
        "data = pd.DataFrame(pd.read_csv('/content/gdrive/My Drive/SAD/IBMHR.csv', index_col = 9))"
      ],
      "execution_count": 0,
      "outputs": []
    },
    {
      "metadata": {
        "id": "zTWdo_IYiZqs",
        "colab_type": "text"
      },
      "cell_type": "markdown",
      "source": [
        "#Informação do Dataset - Raw"
      ]
    },
    {
      "metadata": {
        "id": "uq_AXHYoiqFr",
        "colab_type": "code",
        "colab": {}
      },
      "cell_type": "code",
      "source": [
        "print('!!! A feature EmployeeNumber está a ser considerada como índice, pois não há nem faz sentido haver duplicados nesta feature !!!\\n')\n",
        "display(data.head())\n",
        "\n",
        "pd.options.display.max_columns = None\n",
        "data.columns = data.columns.str.strip()\n",
        "print('\\n')\n",
        "data.info()"
      ],
      "execution_count": 0,
      "outputs": []
    },
    {
      "metadata": {
        "id": "2_QS6Yvw44yn",
        "colab_type": "text"
      },
      "cell_type": "markdown",
      "source": [
        "#Catalogar o Dataset#"
      ]
    },
    {
      "metadata": {
        "id": "e-PICjC5zWmL",
        "colab_type": "code",
        "colab": {}
      },
      "cell_type": "code",
      "source": [
        "display('Dimensionalidade = O dataset tem ' + str(len(data.columns)) + ' features / colunas')\n",
        "print('\\n')\n",
        "\n",
        "display('Tamanho(instâcias, features) = ' + str(data.shape))\n",
        "print('\\n')\n",
        "\n",
        "display('Resolução do datset na seguinte tabela:')\n",
        "dataRes = pd.DataFrame(pd.read_csv('/content/gdrive/My Drive/SAD/IBMHR_Features - Catalog.csv'))\n",
        "display(dataRes)"
      ],
      "execution_count": 0,
      "outputs": []
    },
    {
      "metadata": {
        "id": "IgOEMiT12Ox5",
        "colab_type": "code",
        "colab": {}
      },
      "cell_type": "code",
      "source": [
        "data.info()"
      ],
      "execution_count": 0,
      "outputs": []
    },
    {
      "metadata": {
        "id": "IHfLuc6GyV--",
        "colab_type": "text"
      },
      "cell_type": "markdown",
      "source": [
        "#Pré-processamento dos Dados"
      ]
    },
    {
      "metadata": {
        "id": "DW-LiG8IZXN7",
        "colab_type": "code",
        "colab": {}
      },
      "cell_type": "code",
      "source": [
        "#funçao de encode para binarização\n",
        "\n",
        "def encode_target(df, target_column):\n",
        "   df_mod = df.copy()\n",
        "   targets = df_mod[target_column].unique()\n",
        "   map_to_int = {name: n for n, name in enumerate(targets)}\n",
        "   df_mod[\"Target\"] = df_mod[target_column].replace(map_to_int)\n",
        "\n",
        "   return (df_mod, targets)"
      ],
      "execution_count": 0,
      "outputs": []
    },
    {
      "metadata": {
        "id": "ywuY9DTra7YN",
        "colab_type": "code",
        "colab": {}
      },
      "cell_type": "code",
      "source": [
        "df2, targets = encode_target(data, \"Attrition\")\n",
        "print(\"* df2.head()\", df2[[\"Target\", \"Attrition\"]].head(),\n",
        "      sep=\"\\n\", end=\"\\n\\n\")\n",
        "print(\"* df2.tail()\", df2[[\"Target\", \"Attrition\"]].tail(),\n",
        "      sep=\"\\n\", end=\"\\n\\n\")\n",
        "print(\"* targets\", targets, sep=\"\\n\", end=\"\\n\\n\")"
      ],
      "execution_count": 0,
      "outputs": []
    },
    {
      "metadata": {
        "id": "U8B9blYBVhxZ",
        "colab_type": "text"
      },
      "cell_type": "markdown",
      "source": [
        "#Análise Estatística de Features#"
      ]
    },
    {
      "metadata": {
        "id": "ds5rFwwDT1pC",
        "colab_type": "text"
      },
      "cell_type": "markdown",
      "source": [
        "###Valores Estatísticos"
      ]
    },
    {
      "metadata": {
        "id": "bDg97M3kV-PW",
        "colab_type": "code",
        "colab": {}
      },
      "cell_type": "code",
      "source": [
        "# Easy mode:\n",
        "# display(data.describe())\n",
        "\n",
        "\n",
        "# Like a pro\n",
        "values = [data.mean(), data.var(), data.std()]\n",
        "\n",
        "result = pd.concat(values,axis=1, join_axes=[media.index])\n",
        "\n",
        "result.columns = [\"Média\",\"Variância\",\"Desvio Padrão\"]\n",
        "\n",
        "result"
      ],
      "execution_count": 0,
      "outputs": []
    },
    {
      "metadata": {
        "id": "akmYj53xk4Sg",
        "colab_type": "text"
      },
      "cell_type": "markdown",
      "source": [
        "###Histogramas"
      ]
    },
    {
      "metadata": {
        "id": "_k2b_2Eho4Nv",
        "colab_type": "code",
        "colab": {}
      },
      "cell_type": "code",
      "source": [
        "# Função para geração dos histogramas.\n",
        "# Usando a keyword 'All', corre todas as features\n",
        "\n",
        "def plotHist(datasetVar, columnVar):\n",
        "    if columnVar == 'All':\n",
        "      for i in datasetVar.columns:\n",
        "        if is_numeric_dtype(datasetVar[i]):\n",
        "          display('You are about to see data from feature ' + i)\n",
        "          datasetVar.hist(column = i, figsize=[12,4])\n",
        "          plt.show()\n",
        "          df3=df2[i].groupby([df2['Target']])\n",
        "          plt.ylabel('Number of Workers')\n",
        "          df3.plot(kind='hist', legend = True, title = i, alpha=0.5, figsize=[12,4])\n",
        "          plt.show()\n",
        "    else:\n",
        "        if is_numeric_dtype(datasetVar[columnVar]):\n",
        "          display('You are about to see data from feature ' + columnVar)\n",
        "          datasetVar.hist(column = columnVar, figsize=[12,4])\n",
        "          plt.show()\n",
        "          df3=df2[columnVar].groupby([df2['Target']])\n",
        "          plt.ylabel('Number of Workers')\n",
        "          df3.plot(kind='hist', legend = True, title = columnVar, alpha=0.5, figsize=[12,4])\n",
        "          plt.show()\n",
        "\n",
        "plotHist(df2,'All') "
      ],
      "execution_count": 0,
      "outputs": []
    },
    {
      "metadata": {
        "id": "wZE_l-2hXATt",
        "colab_type": "text"
      },
      "cell_type": "markdown",
      "source": [
        "\n",
        "#NaNs e Outliers##\n"
      ]
    },
    {
      "metadata": {
        "id": "czC4eWShXkUW",
        "colab_type": "code",
        "colab": {
          "base_uri": "https://localhost:8080/",
          "height": 68
        },
        "outputId": "4c79a1b1-e379-4cf8-c0b3-db89e577112e"
      },
      "cell_type": "code",
      "source": [
        "display('Existem ' + str(data.isnull().sum().sum()) + ' valores nulos no dataset')\n",
        "print('\\n')"
      ],
      "execution_count": 164,
      "outputs": [
        {
          "output_type": "display_data",
          "data": {
            "text/plain": [
              "'Existem 0 valores nulos no dataset'"
            ]
          },
          "metadata": {
            "tags": []
          }
        },
        {
          "output_type": "stream",
          "text": [
            "\n",
            "\n"
          ],
          "name": "stdout"
        }
      ]
    },
    {
      "metadata": {
        "id": "qR22BFotfgUT",
        "colab_type": "text"
      },
      "cell_type": "markdown",
      "source": [
        "#Matriz de Correlação"
      ]
    },
    {
      "metadata": {
        "id": "tn2LQLlIfUAO",
        "colab_type": "code",
        "colab": {}
      },
      "cell_type": "code",
      "source": [
        "data.corr()"
      ],
      "execution_count": 0,
      "outputs": []
    },
    {
      "metadata": {
        "id": "_eVzzejK0dlM",
        "colab_type": "text"
      },
      "cell_type": "markdown",
      "source": [
        "#Teste de Aplicação de Algoritmos"
      ]
    },
    {
      "metadata": {
        "id": "3ijyM7Ji6N96",
        "colab_type": "code",
        "colab": {
          "base_uri": "https://localhost:8080/",
          "height": 131
        },
        "outputId": "0bc79ede-67c1-4db6-a511-a58a8cbdf49d"
      },
      "cell_type": "code",
      "source": [
        "#Decision Tree Classifier\n",
        "\n",
        "y = df2['Attrition']\n",
        "\n",
        "features = list(df2.columns[30:32])\n",
        "\n",
        "x = df2[features]\n",
        "\n",
        "x_train, x_test, y_train, y_test = train_test_split(x, y, test_size = .2, random_state = 5)\n",
        "\n",
        "parameters = {'criterion':('gini', 'entropy'), \n",
        "              'min_samples_split':[2,3,4,5], \n",
        "              'max_depth':[9,10,11,12],\n",
        "              'class_weight':('balanced', None),\n",
        "              'presort':(False,True),\n",
        "             }\n",
        "\n",
        "\n",
        "tr = DecisionTreeClassifier()\n",
        "gsearch = GridSearchCV(tr, parameters)\n",
        "gsearch.fit(x_train, y_train)\n",
        "model = gsearch.best_estimator_\n",
        "model.score(x_train, y_train)"
      ],
      "execution_count": 192,
      "outputs": [
        {
          "output_type": "stream",
          "text": [
            "/usr/local/lib/python3.6/dist-packages/sklearn/model_selection/_split.py:2053: FutureWarning: You should specify a value for 'cv' instead of relying on the default value. The default value will change from 3 to 5 in version 0.22.\n",
            "  warnings.warn(CV_WARNING, FutureWarning)\n"
          ],
          "name": "stderr"
        },
        {
          "output_type": "execute_result",
          "data": {
            "text/plain": [
              "0.8418367346938775"
            ]
          },
          "metadata": {
            "tags": []
          },
          "execution_count": 192
        }
      ]
    },
    {
      "metadata": {
        "id": "1x8NNPOG1bGL",
        "colab_type": "code",
        "colab": {}
      },
      "cell_type": "code",
      "source": [
        "#Random Forest\n"
      ],
      "execution_count": 0,
      "outputs": []
    }
  ]
}