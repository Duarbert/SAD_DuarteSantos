{
  "nbformat": 4,
  "nbformat_minor": 0,
  "metadata": {
    "colab": {
      "name": "TPC5.ipynb",
      "version": "0.3.2",
      "provenance": [],
      "collapsed_sections": [
        "nQTAb8ONsOXv"
      ],
      "include_colab_link": true
    },
    "kernelspec": {
      "name": "python3",
      "display_name": "Python 3"
    }
  },
  "cells": [
    {
      "cell_type": "markdown",
      "metadata": {
        "id": "view-in-github",
        "colab_type": "text"
      },
      "source": [
        "<a href=\"https://colab.research.google.com/github/Duarbert/SAD_DuarteSantos/blob/master/TPC5.ipynb\" target=\"_parent\"><img src=\"https://colab.research.google.com/assets/colab-badge.svg\" alt=\"Open In Colab\"/></a>"
      ]
    },
    {
      "metadata": {
        "id": "-VlgoT-337uB",
        "colab_type": "text"
      },
      "cell_type": "markdown",
      "source": [
        "\n",
        "\n",
        "</br></br>\n",
        "\n",
        "# Sistemas de Apoio à Decisão\n",
        "#### TPC 5 - PARTE 1 DO TRABALHO FINAL (15 dias)\n",
        "\n",
        "---------------\n",
        "\n",
        "\n",
        "##### Com base no seu dataset (Determinado para a sua resolução do Trabalho final)\n",
        "\n",
        "1. Catalogar o dataset quanto a\n",
        "    1. Dimensionalidade\n",
        "    - Esparsidade\n",
        "    - Resolução\n",
        "    - Tamanho\n",
        "\n",
        "\n",
        "2. Catalogar todos as features (Máx 50), quanto a:\n",
        "    1. valores de valores médios, variâncias,histogramas (crie um módulo que faça isto por si);\n",
        "    - Tipo (contínuo, discreto ou binário)   \n",
        "    - Analise NaN's (ou Nulls) e Outliers\n",
        "    - Analise os resultados\n",
        "    - Quais não fazem sentido em termos do problema que pretende resolver;\n",
        "    - Que outras features poderia utilizar para enriquecer a informação do seu problema;\n",
        "    - Perceba se deve ou não fazer encoding ou one hot encoding para cada feature discreta;\n",
        "    - Faça uma matriz de correlação entre as features usando ```dataframe.corr()```;\n",
        "\n",
        "\n",
        "\n",
        "3. Analise em termos estatísticos a Label/target que tem para já como problema.\n",
        "\n",
        "---\n",
        "\n",
        "No final, faça um pequeno texto relatando o dataset que está a utilzar, recorrendo à informação que obteve nas perguntas anteriores;\n"
      ]
    },
    {
      "metadata": {
        "id": "ADh0AzTFurzo",
        "colab_type": "text"
      },
      "cell_type": "markdown",
      "source": [
        "#Definição\n",
        "\n",
        "Este dataset tem como objectivo classificar uma dada instância de um empregado de uma empresa como potêncial candidato a sair da empresa por variadíssimas razões.\n",
        "\n",
        "*Attrition, in Human Resource terminology, refers to the phenomenon of the employees leaving the company. Attrition in a company is usually measured with a metric called attrition rate, which simply measures the no of employees moving out of the company (voluntary resigning or laid off by the company). Attrition Rate is also referred as churn rate or turnover.*\n",
        "\n",
        "*High attrition is a cause of concern for a company as it presents a cost to the company. The company loses on the amount it spent to recruit and select these employees and to train them for their respective jobs. The company may also have to spend additional money to fill the vacancies left open by these employees. Hence it becomes critical for a company to keep a tab on the attrition rate which down-sizes the employee base.*\n",
        "\n",
        "**Attrition Rate Formula**\n",
        "\n",
        "Attrition Rate (%)= (Number of separations/ Number of employees) * 100\n",
        "\n",
        "*Attrition rate gives an idea as to how many employees are leaving the company at any given time period. It is an important factor as companies have to prepare to start recruiting for the positions which are critical and cannot be left vacant.*"
      ]
    },
    {
      "metadata": {
        "id": "_k9vueDq4wi0",
        "colab_type": "text"
      },
      "cell_type": "markdown",
      "source": [
        "#Dependências#"
      ]
    },
    {
      "metadata": {
        "id": "rAsMaxZU5YRd",
        "colab_type": "code",
        "colab": {},
        "cellView": "form"
      },
      "cell_type": "code",
      "source": [
        "#@title Montar a Google Drive em /content/gdrive\n",
        "from google.colab import drive\n",
        "drive.mount('/content/gdrive')"
      ],
      "execution_count": 0,
      "outputs": []
    },
    {
      "metadata": {
        "id": "1KA0L7shwW4W",
        "colab_type": "code",
        "colab": {},
        "cellView": "form"
      },
      "cell_type": "code",
      "source": [
        "#@title Importar Módulos\n",
        "\n",
        "import pandas as pd\n",
        "import numpy as np\n",
        "import io\n",
        "import matplotlib.pyplot as plt\n",
        "import seaborn\n",
        "\n",
        "from pandas.api.types import is_string_dtype\n",
        "from pandas.api.types import is_numeric_dtype\n",
        "\n",
        "from sklearn.tree import DecisionTreeClassifier\n",
        "from sklearn.model_selection import train_test_split\n",
        "from sklearn.ensemble import RandomForestClassifier\n",
        "from sklearn.naive_bayes import GaussianNB\n",
        "from sklearn.naive_bayes import MultinomialNB\n",
        "from sklearn.naive_bayes import BernoulliNB\n",
        "from sklearn.metrics import accuracy_score\n",
        "from sklearn.model_selection import cross_val_score\n",
        "from sklearn.metrics import classification_report"
      ],
      "execution_count": 0,
      "outputs": []
    },
    {
      "metadata": {
        "id": "CZbb6gqN61IH",
        "colab_type": "text"
      },
      "cell_type": "markdown",
      "source": [
        "#Carregar os Dados#"
      ]
    },
    {
      "metadata": {
        "id": "6D3KEKMbwZj6",
        "colab_type": "code",
        "colab": {},
        "cellView": "both"
      },
      "cell_type": "code",
      "source": [
        "#@title Carregar o dataset e definir o índice\n",
        "\n",
        "data = pd.DataFrame(pd.read_csv('/content/gdrive/My Drive/SAD/IBMHR.csv'))\n",
        "data_orig = data.copy()\n",
        "data.set_axis = 1\n",
        "data.set_index('EmployeeNumber')"
      ],
      "execution_count": 0,
      "outputs": []
    },
    {
      "metadata": {
        "id": "a2v8VupJPSsU",
        "colab_type": "code",
        "colab": {
          "base_uri": "https://localhost:8080/",
          "height": 437
        },
        "cellView": "both",
        "outputId": "aa2e741b-4395-4cfa-e040-c88f89f1aa46"
      },
      "cell_type": "code",
      "source": [
        "#@title Vamos proceder ao undersampling da classe Attrition\n",
        "\n",
        "# Class count\n",
        "count_class_0, count_class_1 = data.Attrition.value_counts()\n",
        "\n",
        "# Divide by class\n",
        "df_class_0 = data[data['Attrition'] == 'No']\n",
        "df_class_1 = data[data['Attrition'] == 'Yes']\n",
        "\n",
        "# Undersampling\n",
        "df_class_0_under = df_class_0.sample(count_class_1)\n",
        "data = pd.concat([df_class_0_under, df_class_1], axis=0)\n",
        "\n",
        "print('Random under-sampling:')\n",
        "print(df_test_under.Attrition.value_counts())\n",
        "\n",
        "data.Attrition.value_counts().plot(kind='bar', title='Count (Attrition)');"
      ],
      "execution_count": 383,
      "outputs": [
        {
          "output_type": "stream",
          "text": [
            "Random under-sampling:\n",
            "1    225\n",
            "0    225\n",
            "Name: Attrition, dtype: int64\n"
          ],
          "name": "stdout"
        },
        {
          "output_type": "display_data",
          "data": {
            "image/png": "[encoded data removed]",
            "text/plain": [
              "<Figure size 576x396 with 1 Axes>"
            ]
          },
          "metadata": {
            "tags": []
          }
        }
      ]
    },
    {
      "metadata": {
        "id": "Msc6SM27VDxP",
        "colab_type": "code",
        "colab": {
          "base_uri": "https://localhost:8080/",
          "height": 437
        },
        "cellView": "both",
        "outputId": "031a4414-5cbe-4a91-9bc9-a51ac487faa5"
      },
      "cell_type": "code",
      "source": [
        "#@title Opção de oversampling\n",
        "\n",
        "# Class count\n",
        "count_class_0, count_class_1 = data.Attrition.value_counts()\n",
        "\n",
        "# Divide by class\n",
        "df_class_0 = data[data['Attrition'] == 'No']\n",
        "df_class_1 = data[data['Attrition'] == 'Yes']\n",
        "\n",
        "df_class_1_over = df_class_1.sample(count_class_0, replace=True)\n",
        "data = pd.concat([df_class_0, df_class_1_over], axis=0)\n",
        "\n",
        "print('Random over-sampling:')\n",
        "print(data.Attrition.value_counts())\n",
        "\n",
        "data.Attrition.value_counts().plot(kind='bar', title='Count (Attrition)');"
      ],
      "execution_count": 399,
      "outputs": [
        {
          "output_type": "stream",
          "text": [
            "Random over-sampling:\n",
            "No     1233\n",
            "Yes    1233\n",
            "Name: Attrition, dtype: int64\n"
          ],
          "name": "stdout"
        },
        {
          "output_type": "display_data",
          "data": {
            "image/png": "[encoded data removed]",
            "text/plain": [
              "<Figure size 576x396 with 1 Axes>"
            ]
          },
          "metadata": {
            "tags": []
          }
        }
      ]
    },
    {
      "metadata": {
        "id": "YR8VJ4nFdEzd",
        "colab_type": "code",
        "colab": {}
      },
      "cell_type": "code",
      "source": [
        "#@ Definir Subsets\n",
        "data_social = data[['Age','Gender','MaritalStatus','RelationshipSatisfaction', 'WorkLifeBalance','DistanceFromHome','Education','EducationField','MonthlyIncome']].copy()\n",
        "data_salary = data[['DailyRate','HourlyRate','MonthlyRate','PercentSalaryHike']].copy()\n",
        "data_work = data[['Department','EnvironmentSatisfaction','JobInvolvement','JobLevel','JobRole','JobSatisfaction','PerformanceRating','StockOptionLevel','OverTime']].copy()\n",
        "data_work_hist = data[['TotalWorkingYears', 'TrainingTimesLastYear', 'YearsAtCompany', 'YearsInCurrentRole', 'YearsSinceLastPromotion', 'YearsWithCurrManager']].copy()"
      ],
      "execution_count": 0,
      "outputs": []
    },
    {
      "metadata": {
        "id": "zTWdo_IYiZqs",
        "colab_type": "text"
      },
      "cell_type": "markdown",
      "source": [
        "#Informação do Dataset - Raw"
      ]
    },
    {
      "metadata": {
        "id": "uq_AXHYoiqFr",
        "colab_type": "code",
        "colab": {},
        "cellView": "form"
      },
      "cell_type": "code",
      "source": [
        "#@title Listar informação crua do dataset \n",
        "print('!!! A feature EmployeeNumber está a ser considerada como índice, pois não há nem faz sentido haver duplicados nesta feature !!!\\n')\n",
        "display(data.head())\n",
        "\n",
        "pd.options.display.max_columns = None\n",
        "data.columns = data.columns.str.strip()\n",
        "print('\\n')\n",
        "data.info()"
      ],
      "execution_count": 0,
      "outputs": []
    },
    {
      "metadata": {
        "id": "2_QS6Yvw44yn",
        "colab_type": "text"
      },
      "cell_type": "markdown",
      "source": [
        "#1. Catalogar o dataset quanto a#\n",
        "1. Dimensionalidade\n",
        "- Esparsidade\n",
        "- Resolução\n",
        "- Tamanho\n",
        "\n",
        "#2.2 Tipo (contínuo, discreto ou binário)"
      ]
    },
    {
      "metadata": {
        "id": "e-PICjC5zWmL",
        "colab_type": "code",
        "colab": {},
        "cellView": "form"
      },
      "cell_type": "code",
      "source": [
        "#@title Dimensionalidade, Esparsidade, Resolução, Tamanho. Tipo(contínuo, discreto ou binário)\n",
        "\n",
        "print('Em termos de dimensionalidade, o dataset tem ' + str(len(data.columns)) + ' features / colunas.')\n",
        "print('\\n')\n",
        "\n",
        "# As features do tipo objecto estão excluídas\n",
        "for i in data.select_dtypes(exclude='object'):\n",
        "    print ('\\nA esparsidade de valores da feature',i, 'é de:\\n', data[i].max()-data[i].min())\n",
        "\n",
        "print('\\nO tamanho(instâcias, features) é de: ' + str(data.shape))\n",
        "print('\\n')\n",
        "\n",
        "print('Resolução do datset na seguinte tabela:\\n')\n",
        "dataRes = pd.DataFrame(pd.read_csv('/content/gdrive/My Drive/SAD/IBMHR_Features - Catalog.csv'))\n",
        "display(dataRes)"
      ],
      "execution_count": 0,
      "outputs": []
    },
    {
      "metadata": {
        "id": "IHfLuc6GyV--",
        "colab_type": "text"
      },
      "cell_type": "markdown",
      "source": [
        "#Pré-processamento dos Dados\n",
        "- Remover feature irrelevantes\n",
        "- Binarizar de forma básica os valores de Sim e Não\n",
        "- 2.7  Onde Hot Encoding em features"
      ]
    },
    {
      "metadata": {
        "id": "PqndxSkh-s2S",
        "colab_type": "code",
        "colab": {
          "base_uri": "https://localhost:8080/",
          "height": 136
        },
        "cellView": "form",
        "outputId": "59442fc5-bbbd-46c2-b6bb-30ebc5e380b3"
      },
      "cell_type": "code",
      "source": [
        "#@title Remover features irrelevantes\n",
        "\n",
        "print('As features StandardHours, Over18 e EmployeeCount são consideradas irrelevantes.')\n",
        "print('\\nA feature StandardHours tem sempre o mesmo valor de 8')\n",
        "print('\\nA feature Over18 tem sempre o mesmo valor de True')\n",
        "print('\\nA feature EmployeeCount tem sempre o mesmo valor de 1')\n",
        "\n",
        "data = data.drop(['StandardHours', 'Over18', 'EmployeeCount'], axis=1)"
      ],
      "execution_count": 400,
      "outputs": [
        {
          "output_type": "stream",
          "text": [
            "As features StandardHours, Over18 e EmployeeCount são consideradas irrelevantes.\n",
            "\n",
            "A feature StandardHours tem sempre o mesmo valor de 8\n",
            "\n",
            "A feature Over18 tem sempre o mesmo valor de True\n",
            "\n",
            "A feature EmployeeCount tem sempre o mesmo valor de 1\n"
          ],
          "name": "stdout"
        }
      ]
    },
    {
      "metadata": {
        "id": "XL0IlRgvBLjw",
        "colab_type": "code",
        "colab": {},
        "cellView": "form"
      },
      "cell_type": "code",
      "source": [
        "#@title Binarizar de forma básica, transformando valores de Sim e Não por valores inteiros 1 e 0\n",
        "\n",
        "mapping = {'Yes':1, 'No':0, 'Female':1, 'Male':0}\n",
        "data = data.replace(mapping)\n"
      ],
      "execution_count": 0,
      "outputs": []
    },
    {
      "metadata": {
        "id": "qztG3hZYMT3v",
        "colab_type": "code",
        "colab": {},
        "cellView": "form"
      },
      "cell_type": "code",
      "source": [
        "#@title  One Hot Encoding com prefixo, pois iria originar features duplicadas\n",
        "aaa = pd.get_dummies(data.BusinessTravel, prefix = 'BusinessTravel')\n",
        "bbb = pd.get_dummies(data.Department, prefix = 'Department')\n",
        "ccc = pd.get_dummies(data.JobRole, prefix = 'JobRole')\n",
        "ddd = pd.get_dummies(data.MaritalStatus, prefix = 'MaritalStatus')\n",
        "eee = pd.get_dummies(data.EducationField, prefix = 'EducationField')\n",
        "\n",
        "values = [data, aaa, bbb, ccc, ddd, eee]\n",
        "\n",
        "data = pd.concat(values,axis=1, join_axes=[data.index])\n",
        "\n",
        "# Apagar colunas que foram one hotted\n",
        "\n",
        "data = data.drop(['BusinessTravel', 'Department', 'JobRole', 'MaritalStatus', 'EducationField'], axis = 1)"
      ],
      "execution_count": 0,
      "outputs": []
    },
    {
      "metadata": {
        "id": "PfwKLN0TQiSr",
        "colab_type": "code",
        "colab": {},
        "cellView": "both"
      },
      "cell_type": "code",
      "source": [
        "#@title Resumo do resultado da binarização básica e one-hot-encoding\n",
        "data_pp = data\n",
        "data_pp.info()\n",
        "data_pp.head()"
      ],
      "execution_count": 0,
      "outputs": []
    },
    {
      "metadata": {
        "id": "U8B9blYBVhxZ",
        "colab_type": "text"
      },
      "cell_type": "markdown",
      "source": [
        "#2. Catalogar todos as features (Máx 50), quanto valores de:#\n",
        "1. valores médios\n",
        "- variâncias\n",
        "- histogramas (crie um módulo que faça isto por si);"
      ]
    },
    {
      "metadata": {
        "id": "bDg97M3kV-PW",
        "colab_type": "code",
        "colab": {},
        "cellView": "form"
      },
      "cell_type": "code",
      "source": [
        "#@title Valores Estatísticos\n",
        "# Easy mode:\n",
        "# display(data.describe())\n",
        "\n",
        "\n",
        "# Like a pro\n",
        "values = [data.mean(), data.var(), data.std()]\n",
        "\n",
        "result = pd.concat(values,axis=1, join_axes=[data.mean().index])\n",
        "\n",
        "result.columns = [\"Média\",\"Variância\",\"Desvio Padrão\"]\n",
        "\n",
        "result"
      ],
      "execution_count": 0,
      "outputs": []
    },
    {
      "metadata": {
        "id": "_k2b_2Eho4Nv",
        "colab_type": "code",
        "colab": {},
        "cellView": "form"
      },
      "cell_type": "code",
      "source": [
        "#@title Histogramas - Gerados for função conforme requisito\n",
        "#Função para geração dos histogramas.\n",
        "# Usando a keyword 'All', corre todas as features\n",
        "\n",
        "def plotHist(datasetVar, columnVar):\n",
        "    if columnVar == 'All':\n",
        "      for i in datasetVar.columns:\n",
        "        if is_numeric_dtype(datasetVar[i]):\n",
        "          display('You are about to see data from feature ' + i)\n",
        "          datasetVar.hist(column = i, figsize=[12,4])\n",
        "          plt.show()\n",
        "          df3=data[i].groupby([data['Attrition']])\n",
        "          plt.ylabel('Number of Workers')\n",
        "          df3.plot(kind='hist', legend = True, title = i, alpha=0.5, figsize=[12,4])\n",
        "          plt.show()\n",
        "    else:\n",
        "        if is_numeric_dtype(datasetVar[columnVar]):\n",
        "          display('You are about to see data from feature ' + columnVar)\n",
        "          datasetVar.hist(column = columnVar, figsize=[12,4])\n",
        "          plt.show()\n",
        "          df3=data[columnVar].groupby([data['Attrition']])\n",
        "          plt.ylabel('Number of Workers')\n",
        "          df3.plot(kind='hist', legend = True, title = columnVar, alpha=0.5, figsize=[12,4])\n",
        "          plt.show()\n",
        "\n",
        "plotHist(data,'All') "
      ],
      "execution_count": 0,
      "outputs": []
    },
    {
      "metadata": {
        "id": "wZE_l-2hXATt",
        "colab_type": "text"
      },
      "cell_type": "markdown",
      "source": [
        "\n",
        "#2.3 NaNs e Outliers##\n"
      ]
    },
    {
      "metadata": {
        "id": "czC4eWShXkUW",
        "colab_type": "code",
        "colab": {},
        "cellView": "form"
      },
      "cell_type": "code",
      "source": [
        "#@title Valore Nulos\n",
        "display('Existem ' + str(data_pp.isnull().sum().sum()) + ' valores nulos no dataset')\n",
        "print('\\n')"
      ],
      "execution_count": 0,
      "outputs": []
    },
    {
      "metadata": {
        "id": "vfkbXuxp3B7a",
        "colab_type": "code",
        "colab": {
          "base_uri": "https://localhost:8080/",
          "height": 969
        },
        "cellView": "both",
        "outputId": "d24000e5-bb97-4747-bb06-3d1a83a0e938"
      },
      "cell_type": "code",
      "source": [
        "#@title Remoção de Outliers com 1º e 3º quantis de 0.05\n",
        "Q1 = data_pp.quantile(0.05)\n",
        "Q3 = data_pp.quantile(0.95)\n",
        "IQR = Q3 - Q1\n",
        "\n",
        "print('A dispersão estatística dos dados tendo em conta quantis min e max de 0.05\\n\\n', IQR)\n",
        "\n",
        "\n",
        "data_pp_out = data_pp[~((data_pp < (Q1 - 1.5 * IQR)) |(data_pp > (Q3 + 1.5 * IQR))).any(axis=1)]\n",
        "print('\\nOutliers removidos e novo dataset criado com o nome data_pp_out')"
      ],
      "execution_count": 404,
      "outputs": [
        {
          "output_type": "stream",
          "text": [
            "A dispersão estatística dos dados tendo em conta quantis min e max de 0.05\n",
            "\n",
            " Age                                     32.00\n",
            "Attrition                                1.00\n",
            "DailyRate                             1259.75\n",
            "DistanceFromHome                        25.00\n",
            "Education                                3.00\n",
            "EmployeeNumber                        1858.25\n",
            "EnvironmentSatisfaction                  3.00\n",
            "Gender                                   1.00\n",
            "HourlyRate                              63.00\n",
            "JobInvolvement                           3.00\n",
            "JobLevel                                 3.00\n",
            "JobSatisfaction                          3.00\n",
            "MonthlyIncome                        14794.75\n",
            "MonthlyRate                          22390.00\n",
            "NumCompaniesWorked                       8.00\n",
            "OverTime                                 1.00\n",
            "PercentSalaryHike                       11.00\n",
            "PerformanceRating                        1.00\n",
            "RelationshipSatisfaction                 3.00\n",
            "StockOptionLevel                         3.00\n",
            "TotalWorkingYears                       24.00\n",
            "TrainingTimesLastYear                    4.00\n",
            "WorkLifeBalance                          3.00\n",
            "YearsAtCompany                          19.00\n",
            "YearsInCurrentRole                      10.00\n",
            "YearsSinceLastPromotion                  9.00\n",
            "YearsWithCurrManager                    10.00\n",
            "BusinessTravel_Non-Travel                1.00\n",
            "BusinessTravel_Travel_Frequently         1.00\n",
            "BusinessTravel_Travel_Rarely             1.00\n",
            "Department_Human Resources               0.00\n",
            "Department_Research & Development        1.00\n",
            "Department_Sales                         1.00\n",
            "JobRole_Healthcare Representative        1.00\n",
            "JobRole_Human Resources                  0.00\n",
            "JobRole_Laboratory Technician            1.00\n",
            "JobRole_Manager                          0.00\n",
            "JobRole_Manufacturing Director           1.00\n",
            "JobRole_Research Director                0.00\n",
            "JobRole_Research Scientist               1.00\n",
            "JobRole_Sales Executive                  1.00\n",
            "JobRole_Sales Representative             1.00\n",
            "MaritalStatus_Divorced                   1.00\n",
            "MaritalStatus_Married                    1.00\n",
            "MaritalStatus_Single                     1.00\n",
            "EducationField_Human Resources           0.00\n",
            "EducationField_Life Sciences             1.00\n",
            "EducationField_Marketing                 1.00\n",
            "EducationField_Medical                   1.00\n",
            "EducationField_Other                     1.00\n",
            "EducationField_Technical Degree          1.00\n",
            "dtype: float64\n",
            "\n",
            "Outliers removidos e novo dataset criado com o nome data_pp_out\n"
          ],
          "name": "stdout"
        }
      ]
    },
    {
      "metadata": {
        "id": "GNGS-w9LHaUc",
        "colab_type": "text"
      },
      "cell_type": "markdown",
      "source": [
        "#2.6 As seguintes features poderiam enriquecer:\n",
        "- Número de dias com falta por doença\n",
        "- Número de dias com falta não justificada\n",
        "- Avaliações de desempenho anuais"
      ]
    },
    {
      "metadata": {
        "id": "qR22BFotfgUT",
        "colab_type": "text"
      },
      "cell_type": "markdown",
      "source": [
        "#2.8 Matriz de Correlação"
      ]
    },
    {
      "metadata": {
        "id": "tn2LQLlIfUAO",
        "colab_type": "code",
        "colab": {}
      },
      "cell_type": "code",
      "source": [
        "data_pp_out.corr()"
      ],
      "execution_count": 0,
      "outputs": []
    },
    {
      "metadata": {
        "id": "5ER-bollI6Ux",
        "colab_type": "text"
      },
      "cell_type": "markdown",
      "source": [
        "#3 Analise em termos estatísticos a Label/target que tem para já como problema"
      ]
    },
    {
      "metadata": {
        "id": "vUHXgsiiIvbZ",
        "colab_type": "code",
        "colab": {},
        "cellView": "form"
      },
      "cell_type": "code",
      "source": [
        "#@title Copiar a coluna de attrition para uma DF temporária\n",
        "\n",
        "target_stat = data_pp_out.filter(['Attrition'], axis=1)"
      ],
      "execution_count": 0,
      "outputs": []
    },
    {
      "metadata": {
        "id": "qzTaT04AI5hZ",
        "colab_type": "code",
        "outputId": "c017bbcb-57f1-4c75-85ce-7a44e520ec55",
        "colab": {
          "base_uri": "https://localhost:8080/",
          "height": 423
        },
        "cellView": "form"
      },
      "cell_type": "code",
      "source": [
        "#@title Tendo em conta que é uma classificação binária, a análise irá se basear na soma e rácio de cada valor.\n",
        "\n",
        "target_count = data.Attrition.value_counts()\n",
        "print('False:', target_count[0])\n",
        "print('True:', target_count[1])\n",
        "print('Proporção:', round(target_count[0] / target_count[1], 2), ': 1')\n",
        "plt.ylabel('Nº de Instancias')\n",
        "plt.xlabel('Soma de 0:False e True:1')\n",
        "\n",
        "target_count.plot(kind='bar', title='Count (target)');\n",
        "plt.show()"
      ],
      "execution_count": 406,
      "outputs": [
        {
          "output_type": "stream",
          "text": [
            "False: 1233\n",
            "True: 1233\n",
            "Proporção: 1.0 : 1\n"
          ],
          "name": "stdout"
        },
        {
          "output_type": "display_data",
          "data": {
            "image/png": "[encoded data removed]",
            "text/plain": [
              "<Figure size 576x396 with 1 Axes>"
            ]
          },
          "metadata": {
            "tags": []
          }
        }
      ]
    },
    {
      "metadata": {
        "id": "qLZ5Y_vVRPbK",
        "colab_type": "code",
        "colab": {}
      },
      "cell_type": "code",
      "source": [
        "data_pp_out_under.info()"
      ],
      "execution_count": 0,
      "outputs": []
    },
    {
      "metadata": {
        "id": "UsYRFKUYWBNF",
        "colab_type": "code",
        "colab": {},
        "cellView": "form"
      },
      "cell_type": "code",
      "source": [
        "#@title Esparsidade das features\n",
        "for i in data_pp_out_under.select_dtypes(include='int64'):\n",
        "    print ('O esparsidade de valores da feature ',i, 'é de', data_pp_out[i].max()-data_pp_out[i].min())"
      ],
      "execution_count": 0,
      "outputs": []
    },
    {
      "metadata": {
        "id": "RQVr_yRFWvNU",
        "colab_type": "text"
      },
      "cell_type": "markdown",
      "source": [
        "##2.5 À partida os dados atuais fazem sentido para o problema##"
      ]
    },
    {
      "metadata": {
        "id": "h6zCKFz3Y5wS",
        "colab_type": "text"
      },
      "cell_type": "markdown",
      "source": [
        "# TPC 6 - PARTE 2 DO TRABALHO FINAL (Último trabalho)\n",
        "\n",
        "---------------\n",
        "\n",
        "\n",
        "##### Com base no seu dataset (Determinado para a sua resolução do Trabalho final)\n",
        "\n",
        "1. Aplicar 2 dos algoritmos dados nas aulas ao vosso dataset, para classificação/regressão/clustering, fazendo:\n",
        "    1. Fazendo um split training set/test set;\n",
        "    - Traçando a curva de aprendizagem do método tendo em conta uma modificação sucessiva do tamanho dos dados de treino;\n",
        "    - Comparando os resultados dos algoritmos e mostrando o que melhor funciona;\n",
        "\n",
        "***Caso Seja um Regressor***\n",
        "- Apresentar RMSE dos dois métodos e comparar resultados;\n",
        "- Rever feautures usadas e procurar melhorar o resultado obtido, testando mais/outras features;\n",
        "    \n",
        "***Caso Seja um Classificador***\n",
        "\n",
        "- Escrever a matriz de confusao resultante da aplicação iterativa do método;\n",
        "- Medir a sua Precisão e Recall;\n",
        "- Definir um contexto de uso razoável do algoritmo e perceber se nessa situação é mais relevante a precisão ou o recall;\n",
        "- De acordo com a métrica encontrada, rever feautures usadas e procurar melhorar o resultado obtido, testando mais/outras features;\n",
        "    \n",
        "\n",
        "\n"
      ]
    },
    {
      "metadata": {
        "id": "_eVzzejK0dlM",
        "colab_type": "text"
      },
      "cell_type": "markdown",
      "source": [
        "#1. Aplicação de Algoritmos"
      ]
    },
    {
      "metadata": {
        "id": "3ijyM7Ji6N96",
        "colab_type": "code",
        "colab": {},
        "cellView": "both"
      },
      "cell_type": "code",
      "source": [
        "#@title 1.1 Definir o Target e escolher as features\n",
        "\n",
        "y = data_pp_out.pop('Attrition')\n",
        "\n",
        "features = list(data_pp_out.columns[0:50])\n",
        "\n",
        "X = data_pp_out[features]"
      ],
      "execution_count": 0,
      "outputs": []
    },
    {
      "metadata": {
        "id": "h3MqiQOMr8IB",
        "colab_type": "text"
      },
      "cell_type": "markdown",
      "source": [
        "###1.2.1 Decision Tree Classifier"
      ]
    },
    {
      "metadata": {
        "id": "_lKttM9pKy3w",
        "colab_type": "code",
        "outputId": "486c80e2-587c-42ae-d237-895fbd3e793b",
        "colab": {
          "base_uri": "https://localhost:8080/",
          "height": 958
        },
        "cellView": "both"
      },
      "cell_type": "code",
      "source": [
        "#@title Traçando a curva de aprendizagem do método tendo em conta uma modificação sucessiva do tamanho dos dados de treino\n",
        "score_dt = []\n",
        "z = 0\n",
        "k = 0\n",
        "previous = 0\n",
        "\n",
        "for i in range(1, 10):\n",
        "  z = i/10\n",
        "  X_train, X_test, y_train, y_test = train_test_split(X, y, test_size = z, random_state = 5)\n",
        "  #Decision Tree Classifier\n",
        "  dt = DecisionTreeClassifier(random_state = 5)\n",
        "  dt.fit(X_train, y_train)\n",
        "  res_score = dt.score(X_test, y_test)\n",
        "  score_dt.append(res_score)\n",
        "  if(res_score > previous):\n",
        "    previous = res_score\n",
        "    k += 0.1\n",
        "\n",
        "score_dt_local = score_dt\n",
        "print('\\n')\n",
        "plt.plot(score_dt)\n",
        "plt.ylabel('Score')\n",
        "plt.xlabel('Tamanho Dados Treino')\n",
        "plt.show()\n",
        "\n",
        "score_dt_local = sorted(score_dt)\n",
        "print('O score mais alto é de', score_dt_local[-1], ', com', k,'de dados de teste e', 1-k, 'de dados e treino.' )\n",
        "print('\\n')\n",
        "\n",
        "#Decision Tree Classifier\n",
        "X_train, X_test, y_train, y_test = train_test_split(X, y, test_size = k, random_state = 5)\n",
        "dt = DecisionTreeClassifier(random_state = 5)\n",
        "dt.fit(X_train, y_train)\n",
        "\n",
        "print('Score de treino: ', dt.score(X_train, y_train))\n",
        "print('Score de teste: ', dt.score(X_test, y_test))\n",
        "\n",
        "# Relevância das top 10 features\n",
        "rel_feature=pd.Series(dt.feature_importances_,X_test.columns).sort_values(ascending=False)\n",
        "rel_feature.head(10).plot(kind='bar')\n",
        "plt.show()\n",
        "\n",
        "display('A feature mais relevante para o resultado do algoritmo é:',rel_feature.head(1))"
      ],
      "execution_count": 408,
      "outputs": [
        {
          "output_type": "stream",
          "text": [
            "\n",
            "\n"
          ],
          "name": "stdout"
        },
        {
          "output_type": "display_data",
          "data": {
            "image/png": "[encoded data removed]",
            "text/plain": [
              "<Figure size 576x396 with 1 Axes>"
            ]
          },
          "metadata": {
            "tags": []
          }
        },
        {
          "output_type": "stream",
          "text": [
            "O score mais alto é de 0.9348837209302325 , com 0.1 de dados de teste e 0.9 de dados e treino.\n",
            "\n",
            "\n",
            "Score de treino:  1.0\n",
            "Score de teste:  0.9348837209302325\n"
          ],
          "name": "stdout"
        },
        {
          "output_type": "display_data",
          "data": {
            "image/png": "[encoded data removed]",
            "text/plain": [
              "<Figure size 576x396 with 1 Axes>"
            ]
          },
          "metadata": {
            "tags": []
          }
        },
        {
          "output_type": "display_data",
          "data": {
            "text/plain": [
              "'A feature mais relevante para o resultado do algoritmo é:'"
            ]
          },
          "metadata": {
            "tags": []
          }
        },
        {
          "output_type": "display_data",
          "data": {
            "text/plain": [
              "MonthlyIncome    0.109178\n",
              "dtype: float64"
            ]
          },
          "metadata": {
            "tags": []
          }
        }
      ]
    },
    {
      "metadata": {
        "id": "xdlMX6KhsD7l",
        "colab_type": "text"
      },
      "cell_type": "markdown",
      "source": [
        "###1.2.2 Random Forest Classifier"
      ]
    },
    {
      "metadata": {
        "id": "oeU1NvbAFR8U",
        "colab_type": "code",
        "outputId": "9222f7d4-6202-4278-b669-b56e41643e4d",
        "colab": {
          "base_uri": "https://localhost:8080/",
          "height": 940
        },
        "cellView": "both"
      },
      "cell_type": "code",
      "source": [
        "#@title Traçando a curva de aprendizagem do método tendo em conta uma modificação sucessiva do tamanho dos dados de treino\n",
        "# Random Forest\n",
        "# !!!Perde-se traceability!!!\n",
        "\n",
        "# Curva de aprendizagem\n",
        "score_rf = []\n",
        "z = 0\n",
        "k = 0\n",
        "previous = 0\n",
        "\n",
        "for i in range(1, 10):\n",
        "  z = i/10\n",
        "  X_train, X_test, y_train, y_test = train_test_split(X, y, test_size = z, random_state = 5)\n",
        "  #Decision Tree Classifier\n",
        "  rf=RandomForestClassifier(n_estimators=20, max_depth=100, random_state = 5)\n",
        "  rf.fit(X_train, y_train)\n",
        "  res_score = rf.score(X_test, y_test)\n",
        "  score_rf.append(res_score)\n",
        "  if(res_score > previous):\n",
        "    previous = res_score\n",
        "    k += 0.1\n",
        "\n",
        "\n",
        "score_rf_local = score_rf  \n",
        "print('\\n')\n",
        "plt.plot(score_rf_local)\n",
        "plt.ylabel('Score')\n",
        "plt.xlabel('Tamanho Dados Treino')\n",
        "plt.show()\n",
        "\n",
        "score_rf_local = sorted(score_rf)\n",
        "print('O score mais alto é de', score_rf_local[-1], ', com', k,'de dados de teste e', 1-k, 'de dados e treino.' )\n",
        "print('\\n')\n",
        "\n",
        "X_train, X_test, y_train, y_test = train_test_split(X, y, test_size = k, random_state = 5)\n",
        "rf=RandomForestClassifier(n_estimators=20, max_depth=100, random_state = 5)\n",
        "rf.fit(X_train, y_train)\n",
        "                                                                      \n",
        "print('Score de treino: ', rf.score(X_train, y_train))\n",
        "print('Score de teste: ', rf.score(X_test, y_test))\n",
        "\n",
        "# Relevância das top 10 features\n",
        "rel_feature=pd.Series(rf.feature_importances_,X_test.columns).sort_values(ascending=False)\n",
        "rel_feature.head(10).plot(kind='bar')\n",
        "plt.show()\n",
        "\n",
        "display('A feature mais relevante para o resultado do algoritmo é:',rel_feature.head(1))"
      ],
      "execution_count": 409,
      "outputs": [
        {
          "output_type": "stream",
          "text": [
            "\n",
            "\n"
          ],
          "name": "stdout"
        },
        {
          "output_type": "display_data",
          "data": {
            "image/png": "[encoded data removed]",
            "text/plain": [
              "<Figure size 576x396 with 1 Axes>"
            ]
          },
          "metadata": {
            "tags": []
          }
        },
        {
          "output_type": "stream",
          "text": [
            "O score mais alto é de 0.986046511627907 , com 0.2 de dados de teste e 0.8 de dados e treino.\n",
            "\n",
            "\n",
            "Score de treino:  1.0\n",
            "Score de teste:  0.986046511627907\n"
          ],
          "name": "stdout"
        },
        {
          "output_type": "display_data",
          "data": {
            "image/png": "[encoded data removed]",
            "text/plain": [
              "<Figure size 576x396 with 1 Axes>"
            ]
          },
          "metadata": {
            "tags": []
          }
        },
        {
          "output_type": "display_data",
          "data": {
            "text/plain": [
              "'A feature mais relevante para o resultado do algoritmo é:'"
            ]
          },
          "metadata": {
            "tags": []
          }
        },
        {
          "output_type": "display_data",
          "data": {
            "text/plain": [
              "OverTime    0.069226\n",
              "dtype: float64"
            ]
          },
          "metadata": {
            "tags": []
          }
        }
      ]
    },
    {
      "metadata": {
        "id": "qo5psFT2BuEx",
        "colab_type": "code",
        "colab": {},
        "cellView": "form"
      },
      "cell_type": "code",
      "source": [
        "#@title 1.3 Comparação dos Métodos\n",
        "\n",
        "plt.plot(score_dt, label='Decision Tree')\n",
        "plt.plot(score_rf, label='Random Forest')\n",
        "plt.ylabel('Score')\n",
        "plt.xlabel('Tamanho Dados Treino')\n",
        "plt.legend()\n",
        "plt.show"
      ],
      "execution_count": 0,
      "outputs": []
    },
    {
      "metadata": {
        "id": "nQTAb8ONsOXv",
        "colab_type": "text"
      },
      "cell_type": "markdown",
      "source": [
        "# 2.1 Matriz Confusão"
      ]
    },
    {
      "metadata": {
        "id": "qdR1SyQkMRWX",
        "colab_type": "code",
        "colab": {},
        "cellView": "both"
      },
      "cell_type": "code",
      "source": [
        "#@title Matrizes Confusão dos Decision Tree e Random Forest\n",
        "\n",
        "def get_confusion_matrix(y_true, y_pred):\n",
        "    n_classes = len(np.unique(y_true))\n",
        "    conf = np.zeros((n_classes, n_classes))\n",
        "    for actual, pred in zip(y_true, y_pred):\n",
        "        conf[int(actual)][int(pred)] += 1\n",
        "    return conf.astype('int')\n",
        "\n",
        "# Decision Tree\n",
        "y_preds = dt.predict(X_test)\n",
        "\n",
        "matrix = get_confusion_matrix(y_test, y_preds)\n",
        "matrix\n",
        "\n",
        "import itertools \n",
        "classes = [0, 1]\n",
        "# plot confusion matrix\n",
        "plt.imshow(conf, interpolation='nearest', cmap=plt.cm.Greens)\n",
        "plt.title(\"Confusion Matrix do Decicion Tree\")\n",
        "plt.colorbar()\n",
        "tick_marks = np.arange(len(classes))\n",
        "plt.xticks(tick_marks, classes)\n",
        "plt.yticks(tick_marks, classes)\n",
        "\n",
        "fmt = 'd'\n",
        "thresh = conf.max() / 2.\n",
        "for i, j in itertools.product(range(conf.shape[0]), range(conf.shape[1])):\n",
        "    plt.text(j, i, format(matrix[i, j], fmt),\n",
        "             horizontalalignment=\"center\",\n",
        "             color=\"white\" if matrix[i, j] > thresh else \"black\")\n",
        "\n",
        "plt.tight_layout()\n",
        "plt.ylabel('True label')\n",
        "plt.xlabel('Predicted label')\n",
        "plt.show()\n",
        "\n",
        "print('\\n', classification_report(y_test, y_preds))\n",
        "\n",
        "\n",
        "\n",
        "print('\\n\\n')\n",
        "#Random Forest\n",
        "y_preds = rf.predict(X_test)\n",
        "\n",
        "matrix = get_confusion_matrix(y_test, y_preds)\n",
        "print(matrix)\n",
        "\n",
        "import itertools \n",
        "classes = [0, 1]\n",
        "# plot confusion matrix\n",
        "plt.imshow(conf, interpolation='nearest', cmap=plt.cm.Greens)\n",
        "plt.title(\"Confusion Matrix do Random Forest\")\n",
        "plt.colorbar()\n",
        "tick_marks = np.arange(len(classes))\n",
        "plt.xticks(tick_marks, classes)\n",
        "plt.yticks(tick_marks, classes)\n",
        "\n",
        "fmt = 'd'\n",
        "thresh = conf.max() / 2.\n",
        "for i, j in itertools.product(range(conf.shape[0]), range(conf.shape[1])):\n",
        "    plt.text(j, i, format(matrix[i, j], fmt),\n",
        "             horizontalalignment=\"center\",\n",
        "             color=\"white\" if matrix[i, j] > thresh else \"black\")\n",
        "\n",
        "plt.tight_layout()\n",
        "plt.ylabel('True label')\n",
        "plt.xlabel('Predicted label')\n",
        "plt.show()\n",
        "\n",
        "print('\\n', classification_report(y_test, y_preds))"
      ],
      "execution_count": 0,
      "outputs": []
    },
    {
      "metadata": {
        "id": "gykoOdwfYM95",
        "colab_type": "code",
        "colab": {}
      },
      "cell_type": "code",
      "source": [
        ""
      ],
      "execution_count": 0,
      "outputs": []
    }
  ]
}