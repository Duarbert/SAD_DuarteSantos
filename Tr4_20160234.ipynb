{
  "nbformat": 4,
  "nbformat_minor": 0,
  "metadata": {
    "colab": {
      "name": "Tr4_20160234.ipynb",
      "version": "0.3.2",
      "provenance": [],
      "collapsed_sections": [],
      "include_colab_link": true
    },
    "kernelspec": {
      "name": "python3",
      "display_name": "Python 3"
    }
  },
  "cells": [
    {
      "cell_type": "markdown",
      "metadata": {
        "id": "view-in-github",
        "colab_type": "text"
      },
      "source": [
        "<a href=\"https://colab.research.google.com/github/Duarbert/SAD_DuarteSantos/blob/master/Tr4_20160234.ipynb\" target=\"_parent\"><img src=\"https://colab.research.google.com/assets/colab-badge.svg\" alt=\"Open In Colab\"/></a>"
      ]
    },
    {
      "metadata": {
        "id": "OJMm_lHqJfRO",
        "colab_type": "code",
        "colab": {}
      },
      "cell_type": "code",
      "source": [
        "# Import datasets, classifiers and performance metrics\n",
        "from sklearn import datasets\n",
        "import pandas as pd\n",
        "import numpy as np\n",
        "\n",
        "# Importar os classificadores\n",
        "from sklearn.tree import DecisionTreeClassifier\n",
        "from sklearn.model_selection import train_test_split\n",
        "from sklearn.ensemble import RandomForestClassifier\n",
        "from sklearn.naive_bayes import GaussianNB\n",
        "from sklearn.naive_bayes import MultinomialNB\n",
        "from sklearn.naive_bayes import BernoulliNB\n",
        "from sklearn.metrics import accuracy_score\n",
        "\n",
        "# The digits dataset\n",
        "digits = datasets.load_digits()"
      ],
      "execution_count": 0,
      "outputs": []
    },
    {
      "metadata": {
        "colab_type": "code",
        "outputId": "73e557ac-f948-4c5a-f1ed-bdcf64755d8f",
        "id": "aVFItoh--MKn",
        "colab": {
          "base_uri": "https://localhost:8080/",
          "height": 153
        }
      },
      "cell_type": "code",
      "source": [
        "x_train, x_test, y_train, y_test = train_test_split(digits.data, digits.target, test_size = .2, random_state = 5)\n",
        "\n",
        "tree = DecisionTreeClassifier()\n",
        "tree.fit(x_train, y_train)\n",
        "print('Utilizando o Decision Tree, a margem de erro é:', 100 - tree.score(x_test, y_test)*100)\n",
        "\n",
        "forest = RandomForestClassifier(n_estimators=15, random_state= 5)\n",
        "forest.fit(x_train, y_train)\n",
        "print('Utilizando o Random Forest, a margem de erro é:', 100 - forest.score(x_test, y_test)*100)\n",
        "\n",
        "MultiNB = MultinomialNB()\n",
        "MultiNB.fit(x_train, y_train)\n",
        "expect = y_test\n",
        "prev = MultiNB.predict(x_test)\n",
        "res = accuracy_score(expect, prev)\n",
        "print('Utilizando o Naive Bayes Multonomial, a margem de erro é:', 100 - res*100)\n",
        "\n",
        "print('\\nEstes foi só para ver o resultado. Não são os ideais para esta situação\\n')\n",
        "GauNB = GaussianNB()\n",
        "GauNB.fit(x_train, y_train)\n",
        "expect = y_test\n",
        "prev = GauNB.predict(x_test)\n",
        "res = accuracy_score(expect, prev)\n",
        "print('Utilizando o Naive Bayes Gaussian, a margem de erro é:', 100 - res*100)\n",
        "\n",
        "BerNB = BernoulliNB()\n",
        "BerNB.fit(x_train, y_train)\n",
        "expect = y_test\n",
        "prev = BerNB.predict(x_test)\n",
        "res = accuracy_score(expect, prev)\n",
        "print('Utilizando o Naive Bayes Bernoulli, a margem de erro é:', 100 - res*100)\n"
      ],
      "execution_count": 51,
      "outputs": [
        {
          "output_type": "stream",
          "text": [
            "Utilizando o Decision Tree, a margem de erro é: 14.722222222222229\n",
            "Utilizando o Random Forest, a margem de erro é: 5.0\n",
            "Utilizando o Naive Bayes Multonomial, a margem de erro é: 10.277777777777771\n",
            "\n",
            "Estes foi só para ver o resultado. Não são os ideais para esta situação\n",
            "\n",
            "Utilizando o Naive Bayes Gaussian, a margem de erro é: 15.277777777777786\n",
            "Utilizando o Naive Bayes Bernoulli, a margem de erro é: 12.5\n"
          ],
          "name": "stdout"
        }
      ]
    },
    {
      "metadata": {
        "colab_type": "code",
        "id": "fyBeRCYH-EXu",
        "colab": {}
      },
      "cell_type": "code",
      "source": [
        ""
      ],
      "execution_count": 0,
      "outputs": []
    }
  ]
}